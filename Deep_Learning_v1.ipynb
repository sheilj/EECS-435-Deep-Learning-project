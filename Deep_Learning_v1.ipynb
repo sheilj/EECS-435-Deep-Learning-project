{
  "nbformat": 4,
  "nbformat_minor": 0,
  "metadata": {
    "colab": {
      "name": "Deep Learning_v1.ipynb",
      "version": "0.3.2",
      "provenance": [],
      "collapsed_sections": []
    },
    "kernelspec": {
      "name": "python3",
      "display_name": "Python 3"
    },
    "accelerator": "TPU"
  },
  "cells": [
    {
      "metadata": {
        "id": "FjW4szmcl6TV",
        "colab_type": "text"
      },
      "cell_type": "markdown",
      "source": [
        "Import statements"
      ]
    },
    {
      "metadata": {
        "id": "AMNn4fkTjYva",
        "colab_type": "code",
        "outputId": "9d7d61c2-2c71-482e-cc97-36c0796b3d44",
        "colab": {
          "base_uri": "https://localhost:8080/",
          "height": 143
        }
      },
      "cell_type": "code",
      "source": [
        "from __future__ import absolute_import, division, print_function\n",
        "\n",
        "import matplotlib.pylab as plt\n",
        "import keras\n",
        "from keras.preprocessing.image import ImageDataGenerator\n",
        "from keras.models import Sequential\n",
        "from keras.layers import Conv2D, MaxPooling2D\n",
        "from keras.layers import Activation, Dropout, Flatten, Dense\n",
        "from keras import backend as K\n",
        "import tensorflow as tf\n",
        "import numpy as np\n",
        "import os\n",
        "from google.colab import drive\n",
        "\n",
        "drive.mount(\"/content/gdrive/\", force_remount=True)"
      ],
      "execution_count": 0,
      "outputs": [
        {
          "output_type": "stream",
          "text": [
            "Using TensorFlow backend.\n"
          ],
          "name": "stderr"
        },
        {
          "output_type": "stream",
          "text": [
            "Go to this URL in a browser: https://accounts.google.com/o/oauth2/auth?client_id=947318989803-6bn6qk8qdgf4n4g3pfee6491hc0brc4i.apps.googleusercontent.com&redirect_uri=urn%3Aietf%3Awg%3Aoauth%3A2.0%3Aoob&scope=email%20https%3A%2F%2Fwww.googleapis.com%2Fauth%2Fdocs.test%20https%3A%2F%2Fwww.googleapis.com%2Fauth%2Fdrive%20https%3A%2F%2Fwww.googleapis.com%2Fauth%2Fdrive.photos.readonly%20https%3A%2F%2Fwww.googleapis.com%2Fauth%2Fpeopleapi.readonly&response_type=code\n",
            "\n",
            "Enter your authorization code:\n",
            "··········\n",
            "Mounted at /content/gdrive/\n"
          ],
          "name": "stdout"
        }
      ]
    },
    {
      "metadata": {
        "id": "o6NvI2m2CBBZ",
        "colab_type": "code",
        "colab": {}
      },
      "cell_type": "code",
      "source": [
        "#Log training accuracy and loss for every step in the epoch\n",
        "\n",
        "class CollectBatchStats(tf.keras.callbacks.Callback):\n",
        "  def __init__(self):\n",
        "    self.batch_losses_train = []\n",
        "    self.batch_acc_train = []\n",
        "    \n",
        "  def on_batch_end(self, batch, logs=None):\n",
        "    self.batch_losses_train.append(logs['loss'])\n",
        "    self.batch_acc_train.append(logs['acc'])"
      ],
      "execution_count": 0,
      "outputs": []
    },
    {
      "metadata": {
        "id": "4kZm_hbVVmQZ",
        "colab_type": "code",
        "colab": {}
      },
      "cell_type": "code",
      "source": [
        "train_data_dir = 'gdrive/My Drive/Deep Learning project/images_/'\n",
        "\n",
        "epochs = 2\n",
        "batch_size = 50"
      ],
      "execution_count": 0,
      "outputs": []
    },
    {
      "metadata": {
        "id": "gwsNwZgDjByE",
        "colab_type": "code",
        "outputId": "f988364b-8131-4367-a4d4-337f37ce6649",
        "colab": {
          "base_uri": "https://localhost:8080/",
          "height": 1814
        }
      },
      "cell_type": "code",
      "source": [
        "\n",
        "# dimensions of our images.\n",
        "img_width, img_height = 512, 512\n",
        "\n",
        "\n",
        "if K.image_data_format() == 'channels_first':\n",
        "    input_shape = (3, img_width, img_height)\n",
        "else:\n",
        "    input_shape = (img_width, img_height, 3)\n",
        "\n",
        "\n",
        "# Define the structure of the model\n",
        "    \n",
        "model = Sequential()\n",
        "model.add(Conv2D(32, (3, 3), input_shape=input_shape))\n",
        "model.add(Activation('relu'))\n",
        "model.add(MaxPooling2D(pool_size=(2, 2)))\n",
        "\n",
        "model.add(Conv2D(32, (3, 3)))\n",
        "model.add(Activation('relu'))\n",
        "model.add(MaxPooling2D(pool_size=(2, 2)))\n",
        "\n",
        "model.add(Conv2D(32, (3, 3)))\n",
        "model.add(Activation('relu'))\n",
        "model.add(MaxPooling2D(pool_size=(2, 2)))\n",
        "\n",
        "model.add(Conv2D(64, (3, 3)))\n",
        "model.add(Activation('relu'))\n",
        "model.add(MaxPooling2D(pool_size=(2, 2)))\n",
        "\n",
        "model.add(Conv2D(64, (3, 3)))\n",
        "model.add(Activation('relu'))\n",
        "model.add(MaxPooling2D(pool_size=(2, 2)))\n",
        "\n",
        "model.add(Conv2D(64, (3, 3)))\n",
        "model.add(Activation('relu'))\n",
        "model.add(MaxPooling2D(pool_size=(2, 2)))\n",
        "\n",
        "model.add(Flatten())\n",
        "model.add(Dense(64))\n",
        "model.add(Activation('relu'))\n",
        "model.add(Dropout(0.2))\n",
        "model.add(Dense(17))\n",
        "model.add(Activation('softmax'))\n",
        "\n",
        "model.summary()\n",
        "\n",
        "model.compile(loss='categorical_crossentropy',\n",
        "              optimizer=tf.train.AdamOptimizer(),\n",
        "              metrics=['accuracy'])\n",
        "\n",
        "# this is the augmentation configuration we will use for training\n",
        "train_datagen = ImageDataGenerator(\n",
        "    rescale=1. / 255,validation_split=0.3)\n",
        "\n",
        "# training set\n",
        "train_generator = train_datagen.flow_from_directory(\n",
        "    train_data_dir,\n",
        "    target_size=(img_width, img_height),\n",
        "    batch_size=batch_size,\n",
        "    subset='training')\n",
        "\n",
        "# Validation set\n",
        "validation_generator = train_datagen.flow_from_directory(\n",
        "    train_data_dir,\n",
        "    target_size=(img_width, img_height),\n",
        "    batch_size=batch_size,\n",
        "    subset='validation')\n",
        "\n",
        "batch_stats = CollectBatchStats()\n",
        "\n",
        "#Train the model\n",
        "\n",
        "model.fit_generator(\n",
        "    train_generator,\n",
        "    steps_per_epoch = train_generator.samples // batch_size,\n",
        "    validation_data = validation_generator, \n",
        "    validation_steps = validation_generator.samples // batch_size,\n",
        "    epochs = epochs, callbacks = [batch_stats])\n",
        "\n",
        "#Plotting the training loss and accuracy\n",
        "\n",
        "plt.figure()\n",
        "plt.ylabel(\"Loss\")\n",
        "plt.xlabel(\"Training Steps\")\n",
        "plt.ylim([0,2])\n",
        "plt.plot(batch_stats.batch_losses_train)\n",
        "\n",
        "plt.figure()\n",
        "plt.ylabel(\"Accuracy\")\n",
        "plt.xlabel(\"Training Steps\")\n",
        "plt.ylim([0,1])\n",
        "plt.plot(batch_stats.batch_acc_train)"
      ],
      "execution_count": 0,
      "outputs": [
        {
          "output_type": "stream",
          "text": [
            "_________________________________________________________________\n",
            "Layer (type)                 Output Shape              Param #   \n",
            "=================================================================\n",
            "conv2d_7 (Conv2D)            (None, 510, 510, 32)      896       \n",
            "_________________________________________________________________\n",
            "activation_9 (Activation)    (None, 510, 510, 32)      0         \n",
            "_________________________________________________________________\n",
            "max_pooling2d_7 (MaxPooling2 (None, 255, 255, 32)      0         \n",
            "_________________________________________________________________\n",
            "conv2d_8 (Conv2D)            (None, 253, 253, 32)      9248      \n",
            "_________________________________________________________________\n",
            "activation_10 (Activation)   (None, 253, 253, 32)      0         \n",
            "_________________________________________________________________\n",
            "max_pooling2d_8 (MaxPooling2 (None, 126, 126, 32)      0         \n",
            "_________________________________________________________________\n",
            "conv2d_9 (Conv2D)            (None, 124, 124, 32)      9248      \n",
            "_________________________________________________________________\n",
            "activation_11 (Activation)   (None, 124, 124, 32)      0         \n",
            "_________________________________________________________________\n",
            "max_pooling2d_9 (MaxPooling2 (None, 62, 62, 32)        0         \n",
            "_________________________________________________________________\n",
            "conv2d_10 (Conv2D)           (None, 60, 60, 64)        18496     \n",
            "_________________________________________________________________\n",
            "activation_12 (Activation)   (None, 60, 60, 64)        0         \n",
            "_________________________________________________________________\n",
            "max_pooling2d_10 (MaxPooling (None, 30, 30, 64)        0         \n",
            "_________________________________________________________________\n",
            "conv2d_11 (Conv2D)           (None, 28, 28, 64)        36928     \n",
            "_________________________________________________________________\n",
            "activation_13 (Activation)   (None, 28, 28, 64)        0         \n",
            "_________________________________________________________________\n",
            "max_pooling2d_11 (MaxPooling (None, 14, 14, 64)        0         \n",
            "_________________________________________________________________\n",
            "conv2d_12 (Conv2D)           (None, 12, 12, 64)        36928     \n",
            "_________________________________________________________________\n",
            "activation_14 (Activation)   (None, 12, 12, 64)        0         \n",
            "_________________________________________________________________\n",
            "max_pooling2d_12 (MaxPooling (None, 6, 6, 64)          0         \n",
            "_________________________________________________________________\n",
            "flatten_2 (Flatten)          (None, 2304)              0         \n",
            "_________________________________________________________________\n",
            "dense_3 (Dense)              (None, 64)                147520    \n",
            "_________________________________________________________________\n",
            "activation_15 (Activation)   (None, 64)                0         \n",
            "_________________________________________________________________\n",
            "dropout_2 (Dropout)          (None, 64)                0         \n",
            "_________________________________________________________________\n",
            "dense_4 (Dense)              (None, 17)                1105      \n",
            "_________________________________________________________________\n",
            "activation_16 (Activation)   (None, 17)                0         \n",
            "=================================================================\n",
            "Total params: 260,369\n",
            "Trainable params: 260,369\n",
            "Non-trainable params: 0\n",
            "_________________________________________________________________\n",
            "Found 17338 images belonging to 17 classes.\n",
            "Found 7427 images belonging to 17 classes.\n",
            "Epoch 1/2\n",
            "346/346 [==============================] - 9661s 28s/step - loss: 0.7377 - acc: 0.7766 - val_loss: 0.1470 - val_acc: 0.9596\n",
            "Epoch 2/2\n",
            "346/346 [==============================] - 9114s 26s/step - loss: 0.2014 - acc: 0.9412 - val_loss: 0.1032 - val_acc: 0.9704\n"
          ],
          "name": "stdout"
        },
        {
          "output_type": "execute_result",
          "data": {
            "text/plain": [
              "[<matplotlib.lines.Line2D at 0x7ff72fb648d0>]"
            ]
          },
          "metadata": {
            "tags": []
          },
          "execution_count": 7
        },
        {
          "output_type": "display_data",
          "data": {
            "image/png": "[encoded data removed]",
            "text/plain": [
              "<Figure size 576x396 with 1 Axes>"
            ]
          },
          "metadata": {
            "tags": []
          }
        },
        {
          "output_type": "display_data",
          "data": {
            "image/png": "[encoded data removed]",
            "text/plain": [
              "<Figure size 576x396 with 1 Axes>"
            ]
          },
          "metadata": {
            "tags": []
          }
        }
      ]
    },
    {
      "metadata": {
        "id": "5FU5EyQ8eUNQ",
        "colab_type": "code",
        "colab": {}
      },
      "cell_type": "code",
      "source": [
        "#Save model \n",
        "\n",
        "model.save('gdrive/My Drive/Deep Learning project/my_model_2.h5')"
      ],
      "execution_count": 0,
      "outputs": []
    },
    {
      "metadata": {
        "id": "DpTcmqr91p5w",
        "colab_type": "code",
        "colab": {}
      },
      "cell_type": "code",
      "source": [
        "#load the address to the testing images\n",
        "\n",
        "test_data_dir = 'gdrive/My Drive/Deep Learning project/test_images/'\n",
        "#model= keras.models.load_modal('gdrive/My Drive/Deep Learning project/my_model_2.h5')"
      ],
      "execution_count": 0,
      "outputs": []
    },
    {
      "metadata": {
        "id": "ln2rCeW25YCy",
        "colab_type": "code",
        "outputId": "48741c5f-c413-4208-914b-5d018d30b3dd",
        "colab": {
          "base_uri": "https://localhost:8080/",
          "height": 481
        }
      },
      "cell_type": "code",
      "source": [
        "listt=[]\n",
        "\n",
        "for f in os.listdir(test_data_dir):\n",
        "  listt.append(f)\n",
        "test_datagen = ImageDataGenerator(rescale=1./255)\n",
        "\n",
        "test_generator = test_datagen.flow_from_directory(\n",
        "        test_data_dir,\n",
        "        target_size=(img_width, img_height),\n",
        "        shuffle = False,\n",
        "        batch_size=1)\n",
        "\n",
        "filenames = test_generator.filenames\n",
        "nb_samples = len(filenames)\n",
        "\n",
        "print(\"folders: \",listt)\n",
        "\n",
        "label_names = sorted(train_generator.class_indices.items(), key=lambda pair:pair[1])\n",
        "label_names = np.array([key.title() for key, value in label_names])\n",
        "print(\"labels\",label_names)\n",
        "\n",
        "# Predicting the results i.e. probabilities of output labels for every input instance.\n",
        "\n",
        "result = model.predict_generator(test_generator, steps=nb_samples )\n",
        "\n",
        "# Extracting the label with the highest score\n",
        "labels_batch = label_names[np.argmax(result, axis=-1)]\n",
        "for inde in range(len(labels_batch)):\n",
        "  if labels_batch[inde]=='D':\n",
        "    labels_batch[inde]='/'\n",
        "\n",
        "\n",
        "print(labels_batch)"
      ],
      "execution_count": 0,
      "outputs": [
        {
          "output_type": "stream",
          "text": [
            "Found 380 images belonging to 30 classes.\n",
            "folders:  ['ao_21', 'af_4', 'ap_24', 'am_14', 'ac_-43', 'ar_43', 'an_15', 'ak_11', 'al_13', 'ax_135', 'aw_124', 'av_96', 'at_53', 'as_45', 'aj_8', 'au_85', 'ah_5', 'ae_2', 'aa_-0.75', 'ai_6', 'ag_5', 'bd_58851250', 'bc_83', 'ab_-3', 'ay_945', 'az_1260', 'aq_36', 'bb_10443', 'ba_4710', 'ad_0']\n",
            "labels ['(' ')' '*' '+' '-' '0' '1' '2' '3' '4' '5' '6' '7' '8' '9' '=' 'D']\n",
            "['5' '4' '/' '6' '/' '(' '8' '-' '5' '*' '4' ')' '=' '1' '5' '/' '3' '+'\n",
            " '2' '-' '1' '0' '=' '1' '1' '-' '8' '*' '7' '+' '2' '=' '(' '3' '*' '6'\n",
            " '-' '9' '*' '2' ')' '/' '2' '7' '3' '=' '(' '3' '-' '2' ')' '*' '(' '4'\n",
            " '6' '/' '2' '3' ')' '=' '(' '3' '1' '-' '1' '1' ')' '/' '(' '2' '+' '3'\n",
            " ')' '=' '(' '2' '0' '-' '3' '0' ')' '/' '(' '0' '-' '2' ')' '=' '(' '2'\n",
            " '-' '4' '/' '2' ')' '*' '3' '+' '5' '=' '2' '1' '*' '2' '/' '7' '=' '('\n",
            " '9' '-' '(' '2' '-' '9' ')' ')' '/' '(' '1' '+' '1' ')' '=' '2' '+' '9'\n",
            " '=' '5' '+' '8' '=' '(' '1' '9' '-' '7' ')' '/' '4' '+' '1' '1' '=' '2'\n",
            " '*' '5' '+' '5' '=' '(' '1' '1' '-' '5' ')' '+' '1' '5' '=' '(' '(' '3'\n",
            " '+' '7' ')' '*' '2' ')' '-' '3' '+' '7' '=' '(' '2' '+' '(' '1' '+' '1'\n",
            " '1' '*' '3' ')' ')' '=' '6' '*' '7' '+' '9' '+' '(' '8' '+' '3' ')' '*'\n",
            " '2' '=' '(' '(' '1' '4' '-' '1' '2' ')' '+' '7' ')' '*' '5' '=' '3' '*'\n",
            " '(' '1' '2' '-' '5' ')' '+' '8' '*' '6' '=' '4' '-' '9' '*' '(' '4' '-'\n",
            " '(' '4' '+' '9' ')' ')' '=' '(' '6' '+' '(' '6' '6' '/' '1' '1' ')' ')'\n",
            " '*' '8' '=' '6' '2' '*' '2' '=' '1' '0' '*' '(' '4' '0' '+' '3' '/' '2'\n",
            " '-' '7' '*' '6' ')' '=' '1' '1' '4' '5' '-' '3' '0' '0' '+' '2' '5' '*'\n",
            " '4' '=' '(' '5' '+' '1' '2' '1' ')' '*' '(' '2' '0' '-' '1' '0' ')' '/'\n",
            " '(' '5' '-' '4' ')' '=' '1' '5' '7' '*' '(' '2' '+' '2' '8' ')' '=' '7'\n",
            " '8' '9' '+' '(' '3' '2' '1' '8' '*' '3' ')' '=' '(' '0' '-' '8' ')' '-'\n",
            " '(' '0' '-' '7' ')' '*' '(' '(' '0' '-' '2' ')' '-' '(' '(' '0' '-' '8'\n",
            " ')' '+' '(' '0' '-' '7' ')' ')' ')' '=' '6' '6' '1' '2' '5' '*' '8' '9'\n",
            " '0' '=']\n"
          ],
          "name": "stdout"
        }
      ]
    },
    {
      "metadata": {
        "id": "7owz6-10nCx-",
        "colab_type": "code",
        "colab": {}
      },
      "cell_type": "code",
      "source": [
        "# Converting the list of predictions into string of expressions and storing in a new list.\n",
        "\n",
        "def convertToExpList(labels_batch):\n",
        "  listOfExp=[]\n",
        "  tempList = []\n",
        "  i=0\n",
        "  while i in range(len(labels_batch)):\n",
        "\n",
        "      if(labels_batch[i] != '='):\n",
        "          tempList.append(labels_batch[i])\n",
        "          i+=1\n",
        "      else:\n",
        "          i += 1\n",
        "          listOfExp.append(tempList)\n",
        "          tempList =[]\n",
        "  return listOfExp"
      ],
      "execution_count": 0,
      "outputs": []
    },
    {
      "metadata": {
        "id": "25CCzdZL0OfW",
        "colab_type": "text"
      },
      "cell_type": "markdown",
      "source": [
        "Infix expression evaluation"
      ]
    },
    {
      "metadata": {
        "id": "1gljK4rU0M5X",
        "colab_type": "code",
        "colab": {}
      },
      "cell_type": "code",
      "source": [
        "# Infix expression evaluation\n",
        "\n",
        "def precedence(op):\n",
        "\tif(op == '+' or op == '-'):\n",
        "\t\treturn 1\n",
        "\tif(op == '*' or op == '/'):\n",
        "\t\treturn 2\n",
        "\treturn 0\n",
        "\n",
        "\n",
        "#Function to perform arithmetic operations.\n",
        "def applyOp(a, b, op):\n",
        "\tif(op== '+'):\n",
        "\t\treturn a + b\n",
        "\telif (op== '-'):\n",
        "\t\treturn a - b\n",
        "\telif(op== '*'):\n",
        "\t\treturn a * b\n",
        "\telif(op== '/'):\n",
        "\t\treturn a / b\n",
        "\n",
        "\n",
        "#Function that returns value of\n",
        "#expression after evaluation.\n",
        "def evaluate(tokens):\n",
        "\ti=0\n",
        "\t#stack to store eger values.\n",
        "\tvalues =[]\n",
        "\n",
        "\t#stack to store operators.\n",
        "\tops = []\n",
        "\n",
        "\twhile i in range(len(tokens)):\n",
        "\n",
        "\t\t#Current token is a whitespace,\n",
        "\t\t#skip it.\n",
        "\t\tif(tokens[i] == ' '):\n",
        "\t\t\ti += 1\n",
        "\t\t\tcontinue\n",
        "\n",
        "\t\t#Current token is an opening\n",
        "\t\t#brace, push it to 'ops'\n",
        "\t\telif(tokens[i] == '('):\n",
        "\t\t\tops.append(tokens[i])\n",
        "\t\t\ti += 1\n",
        "\n",
        "\n",
        "\t\t#Current token is a number, push\n",
        "\t\t#it to stack for numbers.\n",
        "\t\telif(tokens[i].isdigit()):\n",
        "\t\t\tval = 0\n",
        "\n",
        "\t\t\t#There may be more than one\n",
        "\t\t\t#digits in number.\n",
        "\t\t\twhile(i < len(tokens) and tokens[i].isdigit()):\n",
        "\n",
        "\t\t\t\tval = (val*10) + int(tokens[i])\n",
        "\t\t\t\ti+=1\n",
        "\n",
        "\n",
        "\t\t\tvalues.append(val)\n",
        "\n",
        "\t\t#Closing brace encountered, solve\n",
        "\t\t#entire brace.\n",
        "\t\telif(tokens[i] == ')'):\n",
        "\n",
        "\t\t\twhile(ops and ops[-1] != '('):\n",
        "\n",
        "\t\t\t\tval2 = values[-1]\n",
        "\t\t\t\tvalues.pop()\n",
        "\n",
        "\t\t\t\tval1 = values[-1]\n",
        "\t\t\t\tvalues.pop()\n",
        "\n",
        "\t\t\t\top = ops[-1]\n",
        "\t\t\t\tops.pop()\n",
        "\n",
        "\t\t\t\tvalues.append(applyOp(val1, val2, op))\n",
        "\n",
        "\n",
        "\t\t\t#pop opening brace.\n",
        "\t\t\tops.pop()\n",
        "\t\t\ti += 1\n",
        "\n",
        "\n",
        "\t\t#Current token is an operator.\n",
        "\t\telse:\n",
        "\n",
        "\t\t\t#While top of 'ops' has same or greater\n",
        "\t\t\t#precedence to current token, which\n",
        "\t\t\t#is an operator. Apply operator on top\n",
        "\t\t\t#of 'ops' to top two elements in values stack.\n",
        "\t\t\twhile(ops and precedence(ops[-1])>= precedence(tokens[i])):\n",
        "\t\t\t\tval2 = values[-1]\n",
        "\t\t\t\tvalues.pop()\n",
        "\n",
        "\t\t\t\tval1 = values[-1]\n",
        "\t\t\t\tvalues.pop()\n",
        "\n",
        "\t\t\t\top = ops[-1]\n",
        "\t\t\t\tops.pop()\n",
        "\n",
        "\t\t\t\tvalues.append(applyOp(val1, val2, op))\n",
        "\n",
        "\n",
        "\t\t\t#Push current token to 'ops'.\n",
        "\t\t\tops.append(tokens[i])\n",
        "\t\t\ti+=1\n",
        "\n",
        "\n",
        "\t#Entire expression has been parsed at this\n",
        "\t#po, apply remaining ops to remaining\n",
        "\t#values.\n",
        "\twhile(ops):\n",
        "\t\tval2 = values[-1]\n",
        "\t\tvalues.pop()\n",
        "\n",
        "\t\tval1 = values[-1]\n",
        "\t\tvalues.pop()\n",
        "\n",
        "\t\top = ops[-1]\n",
        "\t\tops.pop()\n",
        "\n",
        "\t\tvalues.append(applyOp(val1, val2, op))\n",
        "\n",
        "\n",
        "\t#Top of 'values' contains result, return it.\n",
        "\treturn values[-1]"
      ],
      "execution_count": 0,
      "outputs": []
    },
    {
      "metadata": {
        "id": "VM6uh93znRd2",
        "colab_type": "code",
        "outputId": "74d74686-5ac8-460e-d245-8e931dcb2f32",
        "colab": {
          "base_uri": "https://localhost:8080/",
          "height": 34
        }
      },
      "cell_type": "code",
      "source": [
        "#labels_batch = ['1', '0' ,'*', '(', '4', '0' ,'+' ,'3', 'D', '2', '-' ,'7', '*' ,'4' ,')', '=','4', '0' ,'*', '(', '4', '0' ,'+' ,'3', 'D', '2', '-' ,'7', '*' ,'4' ,')', '=']\n",
        "\n",
        "listOfExp = convertToExpList(labels_batch)\n",
        "print(\"No of expressions: \",len(listOfExp))"
      ],
      "execution_count": 0,
      "outputs": [
        {
          "output_type": "stream",
          "text": [
            "No of expressions:  30\n"
          ],
          "name": "stdout"
        }
      ]
    },
    {
      "metadata": {
        "id": "1vagmBe3jJU-",
        "colab_type": "code",
        "outputId": "41084c07-ed9d-440c-c77b-3dcb33c225b9",
        "colab": {
          "base_uri": "https://localhost:8080/",
          "height": 2185
        }
      },
      "cell_type": "code",
      "source": [
        "# Evaluating the expressions\n",
        "\n",
        "print(\"\\n====================================EXP EVALUATION===================================================\")\n",
        "actual=[-0.75,-3,-43,0,2,4,5,5,6,8,11,13,14,15,21,24,36,43,45,53,85,96,124,135,945,1260,4710,10443,83,58851250]\n",
        "prediction=[]\n",
        "correct=0\n",
        "i=0\n",
        "for exp in listOfExp:\n",
        "  str1=\"\".join(exp)\n",
        "  print(\"\\nPredicted Exp: \",str1)\n",
        "  print(\"Actual:     \",actual[i])\n",
        "  i+=1\n",
        "\n",
        "  #parse the expressions from the list\n",
        "  try:\n",
        "    ans = evaluate(str1)\n",
        "    print(\"Prediction: \",ans)\n",
        "    prediction.append(ans)\n",
        "  except:\n",
        "    print(\"ERROR IN EXP\")\n",
        "    print(\"Prediction: 0\")\n",
        "    prediction.append(0)\n",
        "    \n",
        "for i in range(len(actual)):\n",
        "  if actual[i]==prediction[i]:\n",
        "    correct+=1"
      ],
      "execution_count": 0,
      "outputs": [
        {
          "output_type": "stream",
          "text": [
            "\n",
            "====================================EXP EVALUATION===================================================\n",
            "\n",
            "Predicted Exp:  54/6/(8-5*4)\n",
            "Actual:      -0.75\n",
            "Prediction:  -0.75\n",
            "\n",
            "Predicted Exp:  15/3+2-10\n",
            "Actual:      -3\n",
            "Prediction:  -3.0\n",
            "\n",
            "Predicted Exp:  11-8*7+2\n",
            "Actual:      -43\n",
            "Prediction:  -43\n",
            "\n",
            "Predicted Exp:  (3*6-9*2)/273\n",
            "Actual:      0\n",
            "Prediction:  0.0\n",
            "\n",
            "Predicted Exp:  (3-2)*(46/23)\n",
            "Actual:      2\n",
            "Prediction:  2.0\n",
            "\n",
            "Predicted Exp:  (31-11)/(2+3)\n",
            "Actual:      4\n",
            "Prediction:  4.0\n",
            "\n",
            "Predicted Exp:  (20-30)/(0-2)\n",
            "Actual:      5\n",
            "Prediction:  5.0\n",
            "\n",
            "Predicted Exp:  (2-4/2)*3+5\n",
            "Actual:      5\n",
            "Prediction:  5.0\n",
            "\n",
            "Predicted Exp:  21*2/7\n",
            "Actual:      6\n",
            "Prediction:  6.0\n",
            "\n",
            "Predicted Exp:  (9-(2-9))/(1+1)\n",
            "Actual:      8\n",
            "Prediction:  8.0\n",
            "\n",
            "Predicted Exp:  2+9\n",
            "Actual:      11\n",
            "Prediction:  11\n",
            "\n",
            "Predicted Exp:  5+8\n",
            "Actual:      13\n",
            "Prediction:  13\n",
            "\n",
            "Predicted Exp:  (19-7)/4+11\n",
            "Actual:      14\n",
            "Prediction:  14.0\n",
            "\n",
            "Predicted Exp:  2*5+5\n",
            "Actual:      15\n",
            "Prediction:  15\n",
            "\n",
            "Predicted Exp:  (11-5)+15\n",
            "Actual:      21\n",
            "Prediction:  21\n",
            "\n",
            "Predicted Exp:  ((3+7)*2)-3+7\n",
            "Actual:      24\n",
            "Prediction:  24\n",
            "\n",
            "Predicted Exp:  (2+(1+11*3))\n",
            "Actual:      36\n",
            "Prediction:  36\n",
            "\n",
            "Predicted Exp:  6*7+9+(8+3)*2\n",
            "Actual:      43\n",
            "Prediction:  73\n",
            "\n",
            "Predicted Exp:  ((14-12)+7)*5\n",
            "Actual:      45\n",
            "Prediction:  45\n",
            "\n",
            "Predicted Exp:  3*(12-5)+8*6\n",
            "Actual:      53\n",
            "Prediction:  69\n",
            "\n",
            "Predicted Exp:  4-9*(4-(4+9))\n",
            "Actual:      85\n",
            "Prediction:  85\n",
            "\n",
            "Predicted Exp:  (6+(66/11))*8\n",
            "Actual:      96\n",
            "Prediction:  96.0\n",
            "\n",
            "Predicted Exp:  62*2\n",
            "Actual:      124\n",
            "Prediction:  124\n",
            "\n",
            "Predicted Exp:  10*(40+3/2-7*6)\n",
            "Actual:      135\n",
            "Prediction:  -5.0\n",
            "\n",
            "Predicted Exp:  1145-300+25*4\n",
            "Actual:      945\n",
            "Prediction:  945\n",
            "\n",
            "Predicted Exp:  (5+121)*(20-10)/(5-4)\n",
            "Actual:      1260\n",
            "Prediction:  1260.0\n",
            "\n",
            "Predicted Exp:  157*(2+28)\n",
            "Actual:      4710\n",
            "Prediction:  4710\n",
            "\n",
            "Predicted Exp:  789+(3218*3)\n",
            "Actual:      10443\n",
            "Prediction:  10443\n",
            "\n",
            "Predicted Exp:  (0-8)-(0-7)*((0-2)-((0-8)+(0-7)))\n",
            "Actual:      83\n",
            "Prediction:  83\n",
            "\n",
            "Predicted Exp:  66125*890\n",
            "Actual:      58851250\n",
            "Prediction:  58851250\n"
          ],
          "name": "stdout"
        }
      ]
    },
    {
      "metadata": {
        "id": "NEqSyDo_nvOU",
        "colab_type": "code",
        "outputId": "d7987ae5-7de1-4095-d33e-7163cc612562",
        "colab": {
          "base_uri": "https://localhost:8080/",
          "height": 105
        }
      },
      "cell_type": "code",
      "source": [
        "# Final testing report\n",
        "\n",
        "print(\"\\n===================================TESTING REPORT=====================================================\")\n",
        "print(\"Correct expression evaluation: \",correct)\n",
        "print(\"Total count of expressions: \",len(actual))\n",
        "print(\"Accuracy: \",correct*100/len(actual),\"%\")"
      ],
      "execution_count": 0,
      "outputs": [
        {
          "output_type": "stream",
          "text": [
            "\n",
            "===================================TESTING REPORT=====================================================\n",
            "Correct expression evaluation:  27\n",
            "Total count of expressions:  30\n",
            "Accuracy:  90.0 %\n"
          ],
          "name": "stdout"
        }
      ]
    }
  ]
}